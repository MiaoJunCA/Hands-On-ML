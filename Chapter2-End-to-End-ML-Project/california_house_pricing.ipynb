{
 "cells": [
  {
   "cell_type": "markdown",
   "metadata": {
    "collapsed": true
   },
   "source": [
    "### Big picture\n",
    "- Target: build a model to predict California house pricing of a district given census data.\n",
    "- Data: metrics such as the population, median income, median housing price and so on for each block group in California. Block groups are the smallest geographical unit for which the US Census Bureau publishes sample data (600-3000 ppl), so called `district`.\n",
    "- Questions to ask:  what exactly is the business objective; How does the company expect to use and benefit the company; what is the current solution. This kind of questions can help frame the problem. \n",
    "- Answer: the output of this model will be fed to another ML system to determine whether it is worth investing in a given area or not. So it is an important signal and can affect business revenue directly. Current solution is manually maintain the price map by a group of ppl. Performance can be off more than 10%. The latter can be a baseline and also provide insight info of how to solve the problem. Sometime, just automating the process of human behaviors is enough.\n",
    "- Frame the problem by determine: \n",
    "  1. is it supervised, unsupervised, or reinforcement learning? (supervised)\n",
    "  2. is it a classification, regression or something else (regression)\n",
    "  3. should you use batch learning or online learning techniques? (no)\n"
   ]
  },
  {
   "cell_type": "code",
   "execution_count": null,
   "metadata": {},
   "outputs": [],
   "source": [
    "#### Download data\n",
    "import os\n",
    "import tarfile\n",
    "from six.moves import urllib\n",
    "import pandas as pd\n",
    "\n",
    "DOWNLOAD_ROOT = \"https://raw.githubusercontent.com/ageron/handson-ml/master\"\n",
    "HOUSING_PATH = os.path.join(\"../datasets\", \"housing\")\n",
    "HOUSING_URL = DOWNLOAD_ROOT + \"datasets/housing/housing.tgz\"\n",
    "\n",
    "def fetch_housing_data(housing_url=HOUSING_URL, housing_path=HOUSING_PATH):\n",
    "    if not os.path.isdir(housing_path):\n",
    "        os.mkdir(housing_path)\n",
    "    tgz_path = os.path.join(housing_path, 'housing.tgz')\n",
    "    urllib.request.urlretrieve(HOUSING_URL, tgz_path)\n",
    "    housing_tgz = tarfile.open(tgz_path)\n",
    "    housing_tgz.extractall(path=housing_path)\n",
    "    housing_tgz.close()\n",
    "    \n",
    "\n",
    "def load_housing_data(housing_path=HOUSING_PATH):\n",
    "    csv_path = os.path.join(housing_path, 'housing.csv')\n",
    "    return pd.read_csv(csv_path)"
   ]
  }
 ],
 "metadata": {
  "kernelspec": {
   "display_name": "Python 2",
   "language": "python",
   "name": "python2"
  },
  "language_info": {
   "codemirror_mode": {
    "name": "ipython",
    "version": 2
   },
   "file_extension": ".py",
   "mimetype": "text/x-python",
   "name": "python",
   "nbconvert_exporter": "python",
   "pygments_lexer": "ipython2",
   "version": "2.7.6"
  }
 },
 "nbformat": 4,
 "nbformat_minor": 0
}
